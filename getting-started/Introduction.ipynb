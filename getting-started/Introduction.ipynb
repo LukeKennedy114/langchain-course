{
  "cells": [
    {
      "attachments": {},
      "cell_type": "markdown",
      "metadata": {
        "colab_type": "text",
        "id": "view-in-github"
      },
      "source": [
        "<a href=\"https://colab.research.google.com/github/SamurAIGPT/langchain-course/blob/main/getting-started/Introduction.ipynb\" target=\"_parent\"><img src=\"https://colab.research.google.com/assets/colab-badge.svg\" alt=\"Open In Colab\"/></a>"
      ]
    },
    {
      "attachments": {},
      "cell_type": "markdown",
      "metadata": {
        "id": "w12Jz3h_INct"
      },
      "source": [
        "# Introduction\n",
        "\n",
        "**LangChain** is a software development framework designed to simplify the creation of applications that use large language models (LLMs) like OpenAI's GPT. It's written in Python and JavaScript, and it was launched as an open-source project in October 2022 by Harrison Chase, a developer working at the machine learning startup Robust Intelligence.\n",
        "\n",
        "The framework offers a broad range of capabilities and features for developers, allowing them to harness the power of LLMs for a variety of applications. Here are some key features of LangChain:\n",
        "\n",
        "**Ease of Use**: LangChain simplifies the process of integrating LLMs into applications. This makes it easier for developers to create and deploy applications that leverage language models for a variety of tasks, including document analysis, text summarization, and chatbot functionality.\n",
        "\n",
        "**Flexibility**: LangChain includes integrations with a variety of systems and services, including Amazon, Google, and Microsoft Azure cloud storage; API wrappers for news, movie information, and weather; and support for multiple web scraping subsystems and templates.\n",
        "\n",
        "**Chain Mechanism:** At the heart of LangChain is the \"Chain\" mechanism, which is a sequence of operations that are performed on a given input. The output of one operation can be used as the input for the next, allowing for complex, multi-step processes to be created and executed easily.\n",
        "\n",
        "**Memory Functionality:** LangChain supports the concept of a memory for chain objects, allowing data to persist across multiple calls. This makes the chain a stateful object, which can be useful for certain types of applications.\n",
        "\n",
        "**Customizable Chains:** While LangChain provides many predefined chains, developers also have the flexibility to create custom chains tailored to their specific needs. This can be done by subclassing the Chain class and implementing the required methods.\n",
        "\n",
        "**Debugging and Verbose Mode:** Debugging in LangChain can be facilitated by setting the verbose mode to true, which prints out the internal states of the Chain object during its execution. This can help developers understand what's happening at each step and identify any issues.\n",
        "\n",
        "Overall, LangChain is a powerful and versatile framework for developers looking to build applications that leverage the power of large language models\n",
        "\n",
        "### Why we use Langchain ?\n",
        "\n",
        "Langchain is a python library that helps you interact with LLMs like ChatGPT and connect it external data and apps.\n",
        "\n",
        "In this lesson we will learn how to interact with ChatGPT to generate text. Many apps which are valued millions of dollars like JasperAI, CopyAI etc. do the same as part of their core business"
      ]
    },
    {
      "attachments": {},
      "cell_type": "markdown",
      "metadata": {
        "id": "To0cTjhBFT0V"
      },
      "source": [
        "## Generating Text"
      ]
    },
    {
      "cell_type": "code",
      "execution_count": 1,
      "metadata": {
        "colab": {
          "base_uri": "https://localhost:8080/"
        },
        "id": "TVyqccumI333",
        "outputId": "97613191-5b8f-49e0-9a29-043b7fda7683"
      },
      "outputs": [
        {
          "name": "stdout",
          "output_type": "stream",
          "text": [
            "Requirement already satisfied: langchain in /home/mrsharm/.local/share/virtualenvs/streamlit_chat-ADbVffIo/lib/python3.8/site-packages (0.0.221)\n",
            "Requirement already satisfied: openai in /home/mrsharm/.local/share/virtualenvs/streamlit_chat-ADbVffIo/lib/python3.8/site-packages (0.27.8)\n",
            "Requirement already satisfied: tiktoken in /home/mrsharm/.local/share/virtualenvs/streamlit_chat-ADbVffIo/lib/python3.8/site-packages (0.4.0)\n",
            "Requirement already satisfied: python-dotenv in /home/mrsharm/.local/share/virtualenvs/streamlit_chat-ADbVffIo/lib/python3.8/site-packages (1.0.0)\n",
            "Requirement already satisfied: PyYAML>=5.4.1 in /home/mrsharm/.local/share/virtualenvs/streamlit_chat-ADbVffIo/lib/python3.8/site-packages (from langchain) (6.0)\n",
            "Requirement already satisfied: SQLAlchemy<3,>=1.4 in /home/mrsharm/.local/share/virtualenvs/streamlit_chat-ADbVffIo/lib/python3.8/site-packages (from langchain) (2.0.17)\n",
            "Requirement already satisfied: aiohttp<4.0.0,>=3.8.3 in /home/mrsharm/.local/share/virtualenvs/streamlit_chat-ADbVffIo/lib/python3.8/site-packages (from langchain) (3.8.4)\n",
            "Requirement already satisfied: async-timeout<5.0.0,>=4.0.0 in /home/mrsharm/.local/share/virtualenvs/streamlit_chat-ADbVffIo/lib/python3.8/site-packages (from langchain) (4.0.2)\n",
            "Requirement already satisfied: dataclasses-json<0.6.0,>=0.5.7 in /home/mrsharm/.local/share/virtualenvs/streamlit_chat-ADbVffIo/lib/python3.8/site-packages (from langchain) (0.5.9)\n",
            "Requirement already satisfied: langchainplus-sdk>=0.0.17 in /home/mrsharm/.local/share/virtualenvs/streamlit_chat-ADbVffIo/lib/python3.8/site-packages (from langchain) (0.0.19)\n",
            "Requirement already satisfied: numexpr<3.0.0,>=2.8.4 in /home/mrsharm/.local/share/virtualenvs/streamlit_chat-ADbVffIo/lib/python3.8/site-packages (from langchain) (2.8.4)\n",
            "Requirement already satisfied: numpy<2,>=1 in /home/mrsharm/.local/share/virtualenvs/streamlit_chat-ADbVffIo/lib/python3.8/site-packages (from langchain) (1.24.4)\n",
            "Requirement already satisfied: openapi-schema-pydantic<2.0,>=1.2 in /home/mrsharm/.local/share/virtualenvs/streamlit_chat-ADbVffIo/lib/python3.8/site-packages (from langchain) (1.2.4)\n",
            "Requirement already satisfied: pydantic<2,>=1 in /home/mrsharm/.local/share/virtualenvs/streamlit_chat-ADbVffIo/lib/python3.8/site-packages (from langchain) (1.10.10)\n",
            "Requirement already satisfied: requests<3,>=2 in /home/mrsharm/.local/share/virtualenvs/streamlit_chat-ADbVffIo/lib/python3.8/site-packages (from langchain) (2.31.0)\n",
            "Requirement already satisfied: tenacity<9.0.0,>=8.1.0 in /home/mrsharm/.local/share/virtualenvs/streamlit_chat-ADbVffIo/lib/python3.8/site-packages (from langchain) (8.2.2)\n",
            "Requirement already satisfied: tqdm in /home/mrsharm/.local/share/virtualenvs/streamlit_chat-ADbVffIo/lib/python3.8/site-packages (from openai) (4.65.0)\n",
            "Requirement already satisfied: regex>=2022.1.18 in /home/mrsharm/.local/share/virtualenvs/streamlit_chat-ADbVffIo/lib/python3.8/site-packages (from tiktoken) (2023.6.3)\n",
            "Requirement already satisfied: attrs>=17.3.0 in /home/mrsharm/.local/share/virtualenvs/streamlit_chat-ADbVffIo/lib/python3.8/site-packages (from aiohttp<4.0.0,>=3.8.3->langchain) (23.1.0)\n",
            "Requirement already satisfied: charset-normalizer<4.0,>=2.0 in /home/mrsharm/.local/share/virtualenvs/streamlit_chat-ADbVffIo/lib/python3.8/site-packages (from aiohttp<4.0.0,>=3.8.3->langchain) (3.1.0)\n",
            "Requirement already satisfied: multidict<7.0,>=4.5 in /home/mrsharm/.local/share/virtualenvs/streamlit_chat-ADbVffIo/lib/python3.8/site-packages (from aiohttp<4.0.0,>=3.8.3->langchain) (6.0.4)\n",
            "Requirement already satisfied: yarl<2.0,>=1.0 in /home/mrsharm/.local/share/virtualenvs/streamlit_chat-ADbVffIo/lib/python3.8/site-packages (from aiohttp<4.0.0,>=3.8.3->langchain) (1.9.2)\n",
            "Requirement already satisfied: frozenlist>=1.1.1 in /home/mrsharm/.local/share/virtualenvs/streamlit_chat-ADbVffIo/lib/python3.8/site-packages (from aiohttp<4.0.0,>=3.8.3->langchain) (1.3.3)\n",
            "Requirement already satisfied: aiosignal>=1.1.2 in /home/mrsharm/.local/share/virtualenvs/streamlit_chat-ADbVffIo/lib/python3.8/site-packages (from aiohttp<4.0.0,>=3.8.3->langchain) (1.3.1)\n",
            "Requirement already satisfied: marshmallow<4.0.0,>=3.3.0 in /home/mrsharm/.local/share/virtualenvs/streamlit_chat-ADbVffIo/lib/python3.8/site-packages (from dataclasses-json<0.6.0,>=0.5.7->langchain) (3.19.0)\n",
            "Requirement already satisfied: marshmallow-enum<2.0.0,>=1.5.1 in /home/mrsharm/.local/share/virtualenvs/streamlit_chat-ADbVffIo/lib/python3.8/site-packages (from dataclasses-json<0.6.0,>=0.5.7->langchain) (1.5.1)\n",
            "Requirement already satisfied: typing-inspect>=0.4.0 in /home/mrsharm/.local/share/virtualenvs/streamlit_chat-ADbVffIo/lib/python3.8/site-packages (from dataclasses-json<0.6.0,>=0.5.7->langchain) (0.9.0)\n",
            "Requirement already satisfied: typing-extensions>=4.2.0 in /home/mrsharm/.local/share/virtualenvs/streamlit_chat-ADbVffIo/lib/python3.8/site-packages (from pydantic<2,>=1->langchain) (4.7.1)\n",
            "Requirement already satisfied: idna<4,>=2.5 in /home/mrsharm/.local/share/virtualenvs/streamlit_chat-ADbVffIo/lib/python3.8/site-packages (from requests<3,>=2->langchain) (3.4)\n",
            "Requirement already satisfied: urllib3<3,>=1.21.1 in /home/mrsharm/.local/share/virtualenvs/streamlit_chat-ADbVffIo/lib/python3.8/site-packages (from requests<3,>=2->langchain) (2.0.3)\n",
            "Requirement already satisfied: certifi>=2017.4.17 in /home/mrsharm/.local/share/virtualenvs/streamlit_chat-ADbVffIo/lib/python3.8/site-packages (from requests<3,>=2->langchain) (2023.5.7)\n",
            "Requirement already satisfied: greenlet!=0.4.17 in /home/mrsharm/.local/share/virtualenvs/streamlit_chat-ADbVffIo/lib/python3.8/site-packages (from SQLAlchemy<3,>=1.4->langchain) (2.0.2)\n",
            "Requirement already satisfied: packaging>=17.0 in /home/mrsharm/.local/share/virtualenvs/streamlit_chat-ADbVffIo/lib/python3.8/site-packages (from marshmallow<4.0.0,>=3.3.0->dataclasses-json<0.6.0,>=0.5.7->langchain) (23.1)\n",
            "Requirement already satisfied: mypy-extensions>=0.3.0 in /home/mrsharm/.local/share/virtualenvs/streamlit_chat-ADbVffIo/lib/python3.8/site-packages (from typing-inspect>=0.4.0->dataclasses-json<0.6.0,>=0.5.7->langchain) (1.0.0)\n"
          ]
        }
      ],
      "source": [
        "# Let's install necessary libraries\n",
        "\n",
        "!pip install langchain openai tiktoken python-dotenv"
      ]
    },
    {
      "cell_type": "code",
      "execution_count": 2,
      "metadata": {
        "id": "cee7L_56FdMF"
      },
      "outputs": [
        {
          "data": {
            "text/plain": [
              "True"
            ]
          },
          "execution_count": 2,
          "metadata": {},
          "output_type": "execute_result"
        }
      ],
      "source": [
        "import os\n",
        "from dotenv import load_dotenv\n",
        "\n",
        "loaded = load_dotenv()"
      ]
    },
    {
      "attachments": {},
      "cell_type": "markdown",
      "metadata": {
        "id": "UUNVYe0iORva"
      },
      "source": [
        "### Text Completion\n",
        "\n",
        "We will ask GPT to generate an outline for an article we wish to write\n",
        "\n",
        "As you can see from the output, you can generate a blog article outline from less than 5 lines of codes"
      ]
    },
    {
      "cell_type": "code",
      "execution_count": 3,
      "metadata": {
        "colab": {
          "base_uri": "https://localhost:8080/"
        },
        "id": "Co34TeW0ODRl",
        "outputId": "91495310-bcd1-45ee-dd21-488f76233a82"
      },
      "outputs": [],
      "source": [
        "from langchain.llms import OpenAI\n",
        "llm = OpenAI(temperature=0.9)\n",
        "text = \"Write me an outline on Tennis\"\n",
        "print(llm(text))"
      ]
    },
    {
      "attachments": {},
      "cell_type": "markdown",
      "metadata": {
        "id": "ghdws72ROs9I"
      },
      "source": [
        "## *Templates*\n",
        "\n",
        "This is the bread and butter of companies like Jasper and CopyAI. They have a bunch of pre-made templates for various use-cases like Blog Writing, Email writing, Sales letter etc. \n",
        "\n",
        "You can pick any one template and enter your input and can generate relevant content.\n",
        "\n",
        "In this example we will discover how we can generate one such template for the above *example*"
      ]
    },
    {
      "cell_type": "code",
      "execution_count": null,
      "metadata": {
        "id": "Q2-VN6LTGBIl"
      },
      "outputs": [],
      "source": [
        "from langchain.prompts import PromptTemplate\n",
        "prompt = PromptTemplate(\n",
        "    input_variables=[\"topic\"],\n",
        "    template=\"Write me an outline on {topic}\",\n",
        ")\n",
        "# The topic varialble is going to be dynamically assigned"
      ]
    },
    {
      "attachments": {},
      "cell_type": "markdown",
      "metadata": {
        "id": "fT_DGdA9VGE8"
      },
      "source": [
        "## Chains\n",
        "\n",
        "Now we are going to use a Langchain concept Chains. Chains are responsible for the entire data flow inside Langchain. As we discussed above we are passing dynamic topic input variable to OpenAI. To accommodate this we will be using a chain called LLMChain. There are a bunch of chains supported in Langchain, we will talk about them later\n",
        "\n",
        "LLMChain takes the prompt from the prompt template we created above and fills it up with the dynamic input before passing to OpenAI LLM. Let's define LLMChain below"
      ]
    },
    {
      "cell_type": "code",
      "execution_count": null,
      "metadata": {
        "id": "lszkNwMNVNiV"
      },
      "outputs": [],
      "source": [
        "from langchain.chains import LLMChain\n",
        "chain = LLMChain(llm=llm, prompt=prompt)"
      ]
    },
    {
      "attachments": {},
      "cell_type": "markdown",
      "metadata": {
        "id": "PNRq_YnoQByB"
      },
      "source": [
        "Now that we have created a prompt template and a chain we can now input any topic we want. Instead of topic \"Tennis\" we can input \"Cricket\" or any other topic of your choice"
      ]
    },
    {
      "cell_type": "code",
      "execution_count": null,
      "metadata": {
        "colab": {
          "base_uri": "https://localhost:8080/"
        },
        "id": "wUh0JGOgPxyv",
        "outputId": "cefee482-9ba6-4313-908b-555d2c511162"
      },
      "outputs": [
        {
          "name": "stdout",
          "output_type": "stream",
          "text": [
            "\n",
            "\n",
            "I. Introduction \n",
            "A. Definition of Cricket\n",
            "B. History of Cricket\n",
            "\n",
            "II. Rules \n",
            "A. Players\n",
            "B. Equipment\n",
            "C. Field Layout\n",
            "\n",
            "III. Playing the Game\n",
            "A. Batting\n",
            "B. Bowling\n",
            "C. Scoring\n",
            "\n",
            "IV. Conclusion \n",
            "A. Overview of game \n",
            "B. Importance of Cricket\n"
          ]
        }
      ],
      "source": [
        "print(chain.run(topic=\"Cricket\"))"
      ]
    },
    {
      "attachments": {},
      "cell_type": "markdown",
      "metadata": {
        "id": "uVBNjz2OSzrs"
      },
      "source": [
        "Now let's extend it for a multi-input prompt. Let's generate an introductory paragraph to a blog post with variables title, audience and tone of voice"
      ]
    },
    {
      "cell_type": "code",
      "execution_count": null,
      "metadata": {
        "id": "vqVEYaPPGJuM"
      },
      "outputs": [],
      "source": [
        "prompt = PromptTemplate(\n",
        "    input_variables=[\"title\", \"audience\", \"tone\"],\n",
        "    template=\"\"\"This program will generate an introductory paragraph to a blog post given a blog title, audience, and tone of voice\n",
        "\n",
        "    Blog Title: {title}\n",
        "    Audience: {audience}\n",
        "    Tone of Voice: {tone}\"\"\",\n",
        ")\n",
        "chain = LLMChain(llm=llm, prompt=prompt)"
      ]
    },
    {
      "cell_type": "code",
      "execution_count": null,
      "metadata": {
        "colab": {
          "base_uri": "https://localhost:8080/"
        },
        "id": "dJgvUP0pSVat",
        "outputId": "56838235-2e98-4580-9301-6b0808f89a5e"
      },
      "outputs": [
        {
          "name": "stdout",
          "output_type": "stream",
          "text": [
            "\n",
            "\n",
            "Are you a millennial looking for the best activities to do in Toronto? Look no further! From vibrant nightlife to outdoor adventures, Toronto has something for everyone. Whether you’re looking to make memories, relax or explore, this city has it all! In this blog post, we'll dive into the top activities that millenials should add to their bucket list. So get ready for some fun, as we explore the best activities that Toronto has to offer!\n"
          ]
        }
      ],
      "source": [
        "print(chain.run(title=\"Best Activities in Toronto\", audience=\"Millenials\", tone=\"Lighthearted\"))"
      ]
    },
    {
      "attachments": {},
      "cell_type": "markdown",
      "metadata": {
        "id": "eP3dAgTgWq-r"
      },
      "source": [
        "## Combining Chains\n",
        "\n",
        "Often we would want to do multiple tasks using GPT. For example if we wish to generate an outline for a topic and use that outline to write a blog article we need to take the outline created from the first step and copy paste and paste as input to the second step\n",
        "\n",
        "Instead we can combine chains to achieve this in a single step. We will do this using a different type of chain called Sequential Chain. A sequential chain takes the output from one chain and passes on to the next. We will cover chains in more detail later"
      ]
    },
    {
      "cell_type": "code",
      "execution_count": null,
      "metadata": {
        "id": "UqHNoQ1OXLCC"
      },
      "outputs": [],
      "source": [
        "from langchain.prompts import PromptTemplate\n",
        "prompt = PromptTemplate(\n",
        "    input_variables=[\"topic\"],\n",
        "    template=\"Write me an outline on {topic}\",\n",
        ")\n",
        "llm = OpenAI(temperature=0.9, max_tokens=-1)\n",
        "chain = LLMChain(llm=llm, prompt=prompt)\n",
        "second_prompt = PromptTemplate(\n",
        "    input_variables=[\"outline\"],\n",
        "    template=\"\"\"Write a blog article in the format of the given outline \n",
        "\n",
        "    Outline:\n",
        "    {outline}\"\"\",\n",
        ")\n",
        "chain_two = LLMChain(llm=llm, prompt=second_prompt)"
      ]
    },
    {
      "cell_type": "code",
      "execution_count": null,
      "metadata": {
        "colab": {
          "base_uri": "https://localhost:8080/"
        },
        "id": "iIieZmmAXaCC",
        "outputId": "ff62bf70-503d-41b0-82a5-ea54a80a0e1d"
      },
      "outputs": [
        {
          "name": "stdout",
          "output_type": "stream",
          "text": [
            "\n",
            "\n",
            "\u001b[1m> Entering new SimpleSequentialChain chain...\u001b[0m\n",
            "\u001b[36;1m\u001b[1;3m\n",
            "\n",
            "I. Introduction \n",
            "A. Definition of Tennis\n",
            "B. History of Tennis\n",
            "\n",
            "II. Popularity of Tennis \n",
            "A. Current Tennis Tournaments\n",
            "B. Popular Players\n",
            "\n",
            "III. Tactics and Techniques Used in Tennis \n",
            "A. Strokes \n",
            "B. Footwork \n",
            "C. Serves \n",
            "\n",
            "IV. Equipment Used in Tennis \n",
            "A. Types of Racquets \n",
            "B. String Tension\n",
            "C. Tennis Balls\n",
            "\n",
            "V. Physical and Mental Aspects of Tennis \n",
            "A. Physical Benefits\n",
            "B. Mental Benefits \n",
            "\n",
            "VI. Conclusion \n",
            "A. Summary of Tennis \n",
            "B. Benefits of Playing Tennis\u001b[0m\n",
            "\u001b[33;1m\u001b[1;3m\n",
            "\n",
            "Introduction \n",
            "Tennis is a popular sport that is played with two or four players. It has a long history, influential players, and many tournaments around the world. The game consists of hitting a small ball with a racquet over a net into the opponent’s court. So, what are the specifics of a competitive game of tennis?\n",
            "\n",
            "Popularity of Tennis \n",
            "Tennis has many professional tournaments around the world that attract millions of viewers and contribute billions to the economy. Every four years the Davis Cup is held, which is a men’s international tennis tournament that features teams from around the world. In addition, the Australian Open, the French Open, and Wimbledon are some of the most prestigious tennis tournaments in the world. Notable tennis players like Roger Federer, Rafael Nadal, and Serena Williams have made tennis all the more popular with their incredible performances in various tournaments. \n",
            "\n",
            "Tactics and Techniques Used in Tennis \n",
            "Tennis is a sport that requires intense strategy and a variety of strokes in order to be successful. Different strokes like forehand, backhand, volleys, and smashes are used to maneuver the ball from one end of the court to the other. In addition, the footwork of players is very important as it helps them to move around the court to reach the ball more easily. The serve is also an important part of tennis and players must be able to strategize and effectively execute their serves. \n",
            "\n",
            "Equipment Used in Tennis \n",
            "Tennis racquets come in many shapes and sizes and can be made of various materials depending on the player’s preference. The racquet strings can also be of various tensions, from very loose to very tight. The type of strings and tension can determine the power and control of a player’s strokes. Tennis balls are also an important part of the equipment used and are generally made of rubber or foam with a felt coating. \n",
            "\n",
            "Physical and Mental Aspects of Tennis \n",
            "Playing tennis provides many physical benefits, such as improved hand-eye coordination, agility, and muscle strength. It also enhances mental well-being by helping with concentration, motivation, and stress relief. The mental aspect of tennis is also very important as players must be able to strategize in order to outwit their opponents. \n",
            "\n",
            "Conclusion \n",
            "In conclusion, tennis is a very popular sport that has been played for centuries. It requires a variety of strokes, footwork, and serves in order to be successful. Players must also utilize different types of equipment like racquets, strings, and balls in order to perform. Lastly, playing tennis offers many physical and mental benefits, making it a great sport for anyone to try.\u001b[0m\n",
            "\n",
            "\u001b[1m> Finished chain.\u001b[0m\n",
            "\n",
            "\n",
            "Introduction \n",
            "Tennis is a popular sport that is played with two or four players. It has a long history, influential players, and many tournaments around the world. The game consists of hitting a small ball with a racquet over a net into the opponent’s court. So, what are the specifics of a competitive game of tennis?\n",
            "\n",
            "Popularity of Tennis \n",
            "Tennis has many professional tournaments around the world that attract millions of viewers and contribute billions to the economy. Every four years the Davis Cup is held, which is a men’s international tennis tournament that features teams from around the world. In addition, the Australian Open, the French Open, and Wimbledon are some of the most prestigious tennis tournaments in the world. Notable tennis players like Roger Federer, Rafael Nadal, and Serena Williams have made tennis all the more popular with their incredible performances in various tournaments. \n",
            "\n",
            "Tactics and Techniques Used in Tennis \n",
            "Tennis is a sport that requires intense strategy and a variety of strokes in order to be successful. Different strokes like forehand, backhand, volleys, and smashes are used to maneuver the ball from one end of the court to the other. In addition, the footwork of players is very important as it helps them to move around the court to reach the ball more easily. The serve is also an important part of tennis and players must be able to strategize and effectively execute their serves. \n",
            "\n",
            "Equipment Used in Tennis \n",
            "Tennis racquets come in many shapes and sizes and can be made of various materials depending on the player’s preference. The racquet strings can also be of various tensions, from very loose to very tight. The type of strings and tension can determine the power and control of a player’s strokes. Tennis balls are also an important part of the equipment used and are generally made of rubber or foam with a felt coating. \n",
            "\n",
            "Physical and Mental Aspects of Tennis \n",
            "Playing tennis provides many physical benefits, such as improved hand-eye coordination, agility, and muscle strength. It also enhances mental well-being by helping with concentration, motivation, and stress relief. The mental aspect of tennis is also very important as players must be able to strategize in order to outwit their opponents. \n",
            "\n",
            "Conclusion \n",
            "In conclusion, tennis is a very popular sport that has been played for centuries. It requires a variety of strokes, footwork, and serves in order to be successful. Players must also utilize different types of equipment like racquets, strings, and balls in order to perform. Lastly, playing tennis offers many physical and mental benefits, making it a great sport for anyone to try.\n"
          ]
        }
      ],
      "source": [
        "from langchain.chains import SimpleSequentialChain\n",
        "overall_chain = SimpleSequentialChain(chains=[chain, chain_two], verbose=True)\n",
        "\n",
        "# Run the chain specifying only the input variable for the first chain.\n",
        "catchphrase = overall_chain.run(\"Tennis\")\n",
        "print(catchphrase)"
      ]
    }
  ],
  "metadata": {
    "colab": {
      "include_colab_link": true,
      "provenance": []
    },
    "kernelspec": {
      "display_name": "Python 3",
      "name": "python3"
    },
    "language_info": {
      "codemirror_mode": {
        "name": "ipython",
        "version": 3
      },
      "file_extension": ".py",
      "mimetype": "text/x-python",
      "name": "python",
      "nbconvert_exporter": "python",
      "pygments_lexer": "ipython3",
      "version": "3.8.10"
    }
  },
  "nbformat": 4,
  "nbformat_minor": 0
}
