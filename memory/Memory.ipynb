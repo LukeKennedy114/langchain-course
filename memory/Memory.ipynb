{
  "nbformat": 4,
  "nbformat_minor": 0,
  "metadata": {
    "colab": {
      "provenance": [],
      "authorship_tag": "ABX9TyObFBU9Z384Meyv9KLxUnwG",
      "include_colab_link": true
    },
    "kernelspec": {
      "name": "python3",
      "display_name": "Python 3"
    },
    "language_info": {
      "name": "python"
    }
  },
  "cells": [
    {
      "cell_type": "markdown",
      "metadata": {
        "id": "view-in-github",
        "colab_type": "text"
      },
      "source": [
        "<a href=\"https://colab.research.google.com/github/SamurAIGPT/langchain-course/blob/main/memory/Memory.ipynb\" target=\"_parent\"><img src=\"https://colab.research.google.com/assets/colab-badge.svg\" alt=\"Open In Colab\"/></a>"
      ]
    },
    {
      "cell_type": "markdown",
      "source": [
        "# Memory\n",
        "\n",
        "Most common use-case for building an AI application with Langchain is a chatbot trained on a knowledgebase. But there is a problem with just using a RetrievalQA method i.e the chatbot developing using this method has no memory and thus cannot answer in a conversational manner\n",
        "\n",
        "For example if you check the below flow\n",
        "\n",
        "**Human** : How to add a video funnel\n",
        "\n",
        "**AI**    : If you want to set up a video funnel, these are the steps you need to follow:\n",
        "\n",
        "Step 1- First of all, go to the Marketing tab at the video level.\n",
        "\n",
        "Step 2- Click on the “Add new funnel” button.\n",
        "\n",
        "Step 3- Set the title to grab the users’ attention.\n",
        "\n",
        "Step 4- Set the text for the action that you want would be taken by the users.\n",
        "\n",
        "Step 5- Select the video for the Funnel.\n",
        "\n",
        "Step 6- Set the start time at which the pop-up would appear to the user.\n",
        "\n",
        "Step 7- Once you are satisfied with all the things, click on the “Save Changes” button.\n",
        "\n",
        "**Human** : Now tell only 5 steps from above\n",
        "\n",
        "**AI**.   : Sorry I am unable to answer, can you provide more context\n",
        "\n",
        "As you can see, the chatbot has no memory and thus unable to answer any follow up questions. To solve this we will be using Memory\n"
      ],
      "metadata": {
        "id": "Pv-Qvp73e3vB"
      }
    },
    {
      "cell_type": "markdown",
      "source": [
        "### Types of Memory\n",
        "\n",
        "Let's discuss some of the most popular memory methods available in Langchain.\n",
        "\n",
        "1. ConversationBufferMemory\n",
        "2. ConversationBufferWindowMemory\n",
        "3. ConversationTokenBufferMemory\n",
        "4. ConversationSummaryMemory\n",
        "\n",
        "We shall discuss each of these with an example"
      ],
      "metadata": {
        "id": "h3jelYesgMyN"
      }
    },
    {
      "cell_type": "markdown",
      "source": [
        "### ConversationBufferMemory\n",
        "\n",
        "This is a simple method that involves storing every chat interaction directly in the buffer. Although it provides good results, it has few drawbacks\n",
        "\n",
        "1. Because every message is stored, the amount of data being sent to api is high and thus results in higher costs and slower speed of response\n",
        "2. ChatGPT has input context limit which can get crossed with few messages and thus can result in error\n",
        "\n",
        "Let's understand it's working with the help of an example. We will try adding memory to a chain"
      ],
      "metadata": {
        "id": "xdBc-buNg0JI"
      }
    },
    {
      "cell_type": "code",
      "source": [
        "!pip install langchain openai"
      ],
      "metadata": {
        "id": "HPIluO3ah5et"
      },
      "execution_count": null,
      "outputs": []
    },
    {
      "cell_type": "code",
      "execution_count": 54,
      "metadata": {
        "id": "fhOSllyYegT1"
      },
      "outputs": [],
      "source": [
        "from langchain.llms import OpenAI\n",
        "from langchain.chat_models import ChatOpenAI\n",
        "from langchain.chains import ConversationChain\n",
        "from langchain.memory import ConversationBufferMemory\n",
        "import os\n",
        "os.environ[\"OPENAI_API_KEY\"] = \"your-openai-key\"\n",
        "\n",
        "llm = ChatOpenAI(temperature=0)\n",
        "conversation = ConversationChain(\n",
        "    llm=llm,\n",
        "    verbose=True,\n",
        "    memory=ConversationBufferMemory()\n",
        ")"
      ]
    },
    {
      "cell_type": "code",
      "source": [
        "conversation.predict(input=\"Write a blog outline on cricket with only 3 topics\")"
      ],
      "metadata": {
        "colab": {
          "base_uri": "https://localhost:8080/",
          "height": 341
        },
        "id": "CI3V4xePiMmq",
        "outputId": "da84a165-a60e-4618-a996-099a56227d5c"
      },
      "execution_count": 55,
      "outputs": [
        {
          "output_type": "stream",
          "name": "stdout",
          "text": [
            "\n",
            "\n",
            "\u001b[1m> Entering new  chain...\u001b[0m\n",
            "Prompt after formatting:\n",
            "\u001b[32;1m\u001b[1;3mThe following is a friendly conversation between a human and an AI. The AI is talkative and provides lots of specific details from its context. If the AI does not know the answer to a question, it truthfully says it does not know.\n",
            "\n",
            "Current conversation:\n",
            "\n",
            "Human: Write a blog outline on cricket with only 3 topics\n",
            "AI:\u001b[0m\n",
            "\n",
            "\u001b[1m> Finished chain.\u001b[0m\n"
          ]
        },
        {
          "output_type": "execute_result",
          "data": {
            "text/plain": [
              "\"Sure! Here's an outline for a blog post on cricket with three topics:\\n\\nI. Introduction\\n   A. Brief history of cricket\\n   B. Popularity of cricket worldwide\\n\\nII. Rules and Gameplay\\n   A. Overview of the basic rules of cricket\\n   B. Explanation of the different formats of the game (Test, One Day Internationals, T20)\\n   C. Key positions and roles of players in a cricket team\\n\\nIII. Famous Cricket Tournaments and Players\\n   A. Overview of major international cricket tournaments (e.g., ICC Cricket World Cup, ICC T20 World Cup)\\n   B. Highlighting some of the greatest cricket players of all time\\n   C. Discussing the impact of cricket on national pride and identity\\n\\nPlease let me know if you need any more information or if there's anything else I can assist you with!\""
            ],
            "application/vnd.google.colaboratory.intrinsic+json": {
              "type": "string"
            }
          },
          "metadata": {},
          "execution_count": 55
        }
      ]
    },
    {
      "cell_type": "code",
      "source": [
        "conversation.memory"
      ],
      "metadata": {
        "colab": {
          "base_uri": "https://localhost:8080/"
        },
        "id": "7gfULpufiWb8",
        "outputId": "e863b0f6-7aa2-4c43-b0c4-e04742451ed1"
      },
      "execution_count": 56,
      "outputs": [
        {
          "output_type": "execute_result",
          "data": {
            "text/plain": [
              "ConversationBufferMemory(chat_memory=ChatMessageHistory(messages=[HumanMessage(content='Write a blog outline on cricket with only 3 topics', additional_kwargs={}, example=False), AIMessage(content=\"Sure! Here's an outline for a blog post on cricket with three topics:\\n\\nI. Introduction\\n   A. Brief history of cricket\\n   B. Popularity of cricket worldwide\\n\\nII. Rules and Gameplay\\n   A. Overview of the basic rules of cricket\\n   B. Explanation of the different formats of the game (Test, One Day Internationals, T20)\\n   C. Key positions and roles of players in a cricket team\\n\\nIII. Famous Cricket Tournaments and Players\\n   A. Overview of major international cricket tournaments (e.g., ICC Cricket World Cup, ICC T20 World Cup)\\n   B. Highlighting some of the greatest cricket players of all time\\n   C. Discussing the impact of cricket on national pride and identity\\n\\nPlease let me know if you need any more information or if there's anything else I can assist you with!\", additional_kwargs={}, example=False)]), output_key=None, input_key=None, return_messages=False, human_prefix='Human', ai_prefix='AI', memory_key='history')"
            ]
          },
          "metadata": {},
          "execution_count": 56
        }
      ]
    },
    {
      "cell_type": "code",
      "source": [
        "conversation.predict(input=\"Now create a blog article using above outline in 500 words\")"
      ],
      "metadata": {
        "colab": {
          "base_uri": "https://localhost:8080/",
          "height": 948
        },
        "id": "JHKVQCEsiYsV",
        "outputId": "0fdb257d-c8d8-4fab-d890-2cb6dcb856cd"
      },
      "execution_count": 57,
      "outputs": [
        {
          "output_type": "stream",
          "name": "stdout",
          "text": [
            "\n",
            "\n",
            "\u001b[1m> Entering new  chain...\u001b[0m\n",
            "Prompt after formatting:\n",
            "\u001b[32;1m\u001b[1;3mThe following is a friendly conversation between a human and an AI. The AI is talkative and provides lots of specific details from its context. If the AI does not know the answer to a question, it truthfully says it does not know.\n",
            "\n",
            "Current conversation:\n",
            "Human: Write a blog outline on cricket with only 3 topics\n",
            "AI: Sure! Here's an outline for a blog post on cricket with three topics:\n",
            "\n",
            "I. Introduction\n",
            "   A. Brief history of cricket\n",
            "   B. Popularity of cricket worldwide\n",
            "\n",
            "II. Rules and Gameplay\n",
            "   A. Overview of the basic rules of cricket\n",
            "   B. Explanation of the different formats of the game (Test, One Day Internationals, T20)\n",
            "   C. Key positions and roles of players in a cricket team\n",
            "\n",
            "III. Famous Cricket Tournaments and Players\n",
            "   A. Overview of major international cricket tournaments (e.g., ICC Cricket World Cup, ICC T20 World Cup)\n",
            "   B. Highlighting some of the greatest cricket players of all time\n",
            "   C. Discussing the impact of cricket on national pride and identity\n",
            "\n",
            "Please let me know if you need any more information or if there's anything else I can assist you with!\n",
            "Human: Now create a blog article using above outline in 500 words\n",
            "AI:\u001b[0m\n",
            "\n",
            "\u001b[1m> Finished chain.\u001b[0m\n"
          ]
        },
        {
          "output_type": "execute_result",
          "data": {
            "text/plain": [
              "\"Sure! Here's a blog article based on the outline provided:\\n\\nTitle: The Fascinating World of Cricket: Exploring the History, Rules, and Legends\\n\\nIntroduction:\\nCricket, a sport that has captured the hearts of millions around the globe, has a rich history and a massive following. In this blog post, we will delve into the captivating world of cricket, exploring its origins, global popularity, and the excitement it brings to fans worldwide.\\n\\nI. Brief history of cricket:\\nCricket's roots can be traced back to 16th-century England, where it was played by shepherds using a ball and a stick. Over the years, the sport evolved, and by the 18th century, it became a popular pastime for the British aristocracy. From there, cricket spread to other parts of the British Empire, including India, Australia, and the West Indies, leaving a lasting impact on these nations' sporting cultures.\\n\\nII. Rules and Gameplay:\\nTo truly appreciate cricket, one must understand its rules and gameplay. The basic objective of the game is for one team to score more runs than the opposing team. The game is played in different formats, including Test matches, One Day Internationals (ODIs), and the fast-paced Twenty20 (T20) format. Each format has its own unique set of rules and strategies, making cricket a versatile and dynamic sport.\\n\\nIII. Key positions and roles of players in a cricket team:\\nCricket is a team sport that requires coordination and specialization. Each team consists of eleven players, each with specific roles and responsibilities. From the opening batsmen who set the foundation for a strong start to the bowlers who aim to dismiss the opposition, every player plays a crucial role in the team's success. Understanding these positions and their significance adds depth to the appreciation of the game.\\n\\nIV. Famous Cricket Tournaments and Players:\\nCricket has witnessed some of the most thrilling tournaments and produced legendary players who have left an indelible mark on the sport. Major international cricket tournaments, such as the ICC Cricket World Cup and the ICC T20 World Cup, bring together teams from around the world, showcasing the pinnacle of cricketing excellence. Additionally, the sport has seen the rise of iconic players like Sachin Tendulkar, Sir Don Bradman, and Brian Lara, whose skills and achievements have made them household names.\\n\\nV. Impact of cricket on national pride and identity:\\nCricket is more than just a game; it holds immense cultural significance for many nations. It serves as a platform for countries to showcase their talent, passion, and national pride. The sport has the power to unite people, transcend boundaries, and create a sense of identity and belonging. The fervor and enthusiasm displayed by fans during cricket matches are a testament to the deep-rooted impact the sport has on societies.\\n\\nConclusion:\\nCricket, with its fascinating history, intricate rules, and larger-than-life players, continues to captivate fans across the globe. Whether you're a die-hard cricket enthusiast or a curious newcomer, exploring the world of cricket opens up a realm of excitement, camaraderie, and sporting excellence. So grab your bat, put on your cricket whites, and immerse yourself in the thrilling world of this beloved sport.\\n\\nWord count: 500\\n\\nI hope you find this blog article on cricket informative and engaging! Let me know if there's anything else I can assist you with.\""
            ],
            "application/vnd.google.colaboratory.intrinsic+json": {
              "type": "string"
            }
          },
          "metadata": {},
          "execution_count": 57
        }
      ]
    },
    {
      "cell_type": "markdown",
      "source": [
        "As we can see with the help of memory, it is now able to handle user input context and respond accordingly"
      ],
      "metadata": {
        "id": "w-tHaxCikoDt"
      }
    },
    {
      "cell_type": "markdown",
      "source": [
        "### ConversationBufferWindowMemory\n",
        "\n",
        "The ConversationBufferWindowMemory is similar to the ConversationBufferMemory except it stores only the recent specified number of interactions by maintaining a window memory and discards the rest. Let's understand with the help of an example"
      ],
      "metadata": {
        "id": "3T883jzekykA"
      }
    },
    {
      "cell_type": "code",
      "source": [
        "from langchain.memory import ConversationBufferWindowMemory\n",
        "conversation = ConversationChain(\n",
        "    llm=OpenAI(temperature=0),\n",
        "    memory=ConversationBufferWindowMemory(k=2),\n",
        "    verbose=True\n",
        ")\n",
        "conversation.predict(input=\"Hello\")"
      ],
      "metadata": {
        "colab": {
          "base_uri": "https://localhost:8080/",
          "height": 270
        },
        "id": "wZ90cgmNk6-Y",
        "outputId": "83a47af1-ba13-4478-d119-90703df217fd"
      },
      "execution_count": 69,
      "outputs": [
        {
          "output_type": "stream",
          "name": "stdout",
          "text": [
            "\n",
            "\n",
            "\u001b[1m> Entering new  chain...\u001b[0m\n",
            "Prompt after formatting:\n",
            "\u001b[32;1m\u001b[1;3mThe following is a friendly conversation between a human and an AI. The AI is talkative and provides lots of specific details from its context. If the AI does not know the answer to a question, it truthfully says it does not know.\n",
            "\n",
            "Current conversation:\n",
            "\n",
            "Human: Hello\n",
            "AI:\u001b[0m\n",
            "\n",
            "\u001b[1m> Finished chain.\u001b[0m\n"
          ]
        },
        {
          "output_type": "execute_result",
          "data": {
            "text/plain": [
              "\" Hi there! It's nice to meet you. How can I help you today?\""
            ],
            "application/vnd.google.colaboratory.intrinsic+json": {
              "type": "string"
            }
          },
          "metadata": {},
          "execution_count": 69
        }
      ]
    },
    {
      "cell_type": "code",
      "source": [
        "conversation.predict(input=\"How are you ?\")"
      ],
      "metadata": {
        "colab": {
          "base_uri": "https://localhost:8080/",
          "height": 288
        },
        "id": "egjNWXhBlY3d",
        "outputId": "043836d2-1459-4345-b555-5979c07391fb"
      },
      "execution_count": 71,
      "outputs": [
        {
          "output_type": "stream",
          "name": "stdout",
          "text": [
            "\n",
            "\n",
            "\u001b[1m> Entering new  chain...\u001b[0m\n",
            "Prompt after formatting:\n",
            "\u001b[32;1m\u001b[1;3mThe following is a friendly conversation between a human and an AI. The AI is talkative and provides lots of specific details from its context. If the AI does not know the answer to a question, it truthfully says it does not know.\n",
            "\n",
            "Current conversation:\n",
            "Human: Hello\n",
            "AI:  Hi there! It's nice to meet you. How can I help you today?\n",
            "Human: How are you ?\n",
            "AI:\u001b[0m\n",
            "\n",
            "\u001b[1m> Finished chain.\u001b[0m\n"
          ]
        },
        {
          "output_type": "execute_result",
          "data": {
            "text/plain": [
              "\" I'm doing great, thanks for asking! I'm feeling very excited about the new projects I'm working on. How about you?\""
            ],
            "application/vnd.google.colaboratory.intrinsic+json": {
              "type": "string"
            }
          },
          "metadata": {},
          "execution_count": 71
        }
      ]
    },
    {
      "cell_type": "code",
      "source": [
        "conversation.predict(input=\"Which projects ?\")"
      ],
      "metadata": {
        "colab": {
          "base_uri": "https://localhost:8080/",
          "height": 341
        },
        "id": "FNMvKpQ9lb1e",
        "outputId": "4e442774-205f-420b-8bcc-81da0179632a"
      },
      "execution_count": 73,
      "outputs": [
        {
          "output_type": "stream",
          "name": "stdout",
          "text": [
            "\n",
            "\n",
            "\u001b[1m> Entering new  chain...\u001b[0m\n",
            "Prompt after formatting:\n",
            "\u001b[32;1m\u001b[1;3mThe following is a friendly conversation between a human and an AI. The AI is talkative and provides lots of specific details from its context. If the AI does not know the answer to a question, it truthfully says it does not know.\n",
            "\n",
            "Current conversation:\n",
            "Human: Hello\n",
            "AI:  Hi there! It's nice to meet you. How can I help you today?\n",
            "Human: How are you ?\n",
            "AI:  I'm doing great, thanks for asking! I'm feeling very excited about the new projects I'm working on. How about you?\n",
            "Human: Which projects ?\n",
            "AI:\u001b[0m\n",
            "\n",
            "\u001b[1m> Finished chain.\u001b[0m\n"
          ]
        },
        {
          "output_type": "execute_result",
          "data": {
            "text/plain": [
              "\" I'm currently working on a project to develop a natural language processing system that can understand and respond to human conversations. It's a really interesting challenge and I'm looking forward to seeing the results.\""
            ],
            "application/vnd.google.colaboratory.intrinsic+json": {
              "type": "string"
            }
          },
          "metadata": {},
          "execution_count": 73
        }
      ]
    },
    {
      "cell_type": "code",
      "source": [
        "conversation.predict(input=\"That's great ?\")"
      ],
      "metadata": {
        "colab": {
          "base_uri": "https://localhost:8080/",
          "height": 323
        },
        "id": "2V7exnxoloCu",
        "outputId": "92b04b16-5ccb-4f6f-8e8c-8a26fdc87d26"
      },
      "execution_count": 75,
      "outputs": [
        {
          "output_type": "stream",
          "name": "stdout",
          "text": [
            "\n",
            "\n",
            "\u001b[1m> Entering new  chain...\u001b[0m\n",
            "Prompt after formatting:\n",
            "\u001b[32;1m\u001b[1;3mThe following is a friendly conversation between a human and an AI. The AI is talkative and provides lots of specific details from its context. If the AI does not know the answer to a question, it truthfully says it does not know.\n",
            "\n",
            "Current conversation:\n",
            "Human: How are you ?\n",
            "AI:  I'm doing great, thanks for asking! I'm feeling very excited about the new projects I'm working on. How about you?\n",
            "Human: Which projects ?\n",
            "AI:  I'm currently working on a project to develop a natural language processing system that can understand and respond to human conversations. It's a really interesting challenge and I'm looking forward to seeing the results.\n",
            "Human: That's great ?\n",
            "AI:\u001b[0m\n",
            "\n",
            "\u001b[1m> Finished chain.\u001b[0m\n"
          ]
        },
        {
          "output_type": "execute_result",
          "data": {
            "text/plain": [
              "\" Thanks! I'm really enjoying the work and I'm confident that I'll be able to make some good progress. What about you? What have you been up to lately?\""
            ],
            "application/vnd.google.colaboratory.intrinsic+json": {
              "type": "string"
            }
          },
          "metadata": {},
          "execution_count": 75
        }
      ]
    },
    {
      "cell_type": "markdown",
      "source": [
        "As we can see it only remembers the last 2 conversations and all the messages before that are not sent to ChatGPT anymore"
      ],
      "metadata": {
        "id": "f6NG8vWmme7L"
      }
    },
    {
      "cell_type": "markdown",
      "source": [
        "### ConversationTokenBufferMemory\n",
        "\n",
        "This is quite similar to ConversationBufferMemory. The key difference in ConversationTokenBufferMemory is that it uses a token limit, which is determined by the number of words in the stored messages. This is different from a ConversationBufferWindowMemory, which discards interactions based on the number of turns."
      ],
      "metadata": {
        "id": "9aTM1Bt3mq5d"
      }
    },
    {
      "cell_type": "markdown",
      "source": [
        "### ConversationSummaryMemory\n",
        "\n",
        "ConversationSummaryMemory summarizes interactions between the user and the AI building up a \"running summary\" of all past interactions instead of storing the raw conversations.\n",
        "\n",
        "ConversationSummaryMemory takes more tokens for shorter conversations but enables longer conversations with fewer tokens.\n",
        "\n",
        "Let's check it out with the help of an example"
      ],
      "metadata": {
        "id": "x6ulIAvcm5Vx"
      }
    },
    {
      "cell_type": "code",
      "source": [
        "from langchain.llms import OpenAI\n",
        "from langchain.memory import ConversationSummaryMemory\n",
        "from langchain.chains import ConversationChain\n",
        "llm=OpenAI(temperature=0)\n",
        "conversation = ConversationChain(\n",
        "    llm=llm,\n",
        "    memory=ConversationSummaryMemory(llm=llm),\n",
        "    verbose=True\n",
        ")"
      ],
      "metadata": {
        "id": "kflTIYcDl9h_"
      },
      "execution_count": 77,
      "outputs": []
    },
    {
      "cell_type": "code",
      "source": [
        "conversation.predict(input=\"Hello\")"
      ],
      "metadata": {
        "colab": {
          "base_uri": "https://localhost:8080/",
          "height": 270
        },
        "id": "NKQ-xLjHnZlS",
        "outputId": "a6533e67-5ced-4432-e7d1-6ad4f052fb18"
      },
      "execution_count": 79,
      "outputs": [
        {
          "output_type": "stream",
          "name": "stdout",
          "text": [
            "\n",
            "\n",
            "\u001b[1m> Entering new  chain...\u001b[0m\n",
            "Prompt after formatting:\n",
            "\u001b[32;1m\u001b[1;3mThe following is a friendly conversation between a human and an AI. The AI is talkative and provides lots of specific details from its context. If the AI does not know the answer to a question, it truthfully says it does not know.\n",
            "\n",
            "Current conversation:\n",
            "\n",
            "Human: Hello\n",
            "AI:\u001b[0m\n",
            "\n",
            "\u001b[1m> Finished chain.\u001b[0m\n"
          ]
        },
        {
          "output_type": "execute_result",
          "data": {
            "text/plain": [
              "\" Hi there! It's nice to meet you. How can I help you today?\""
            ],
            "application/vnd.google.colaboratory.intrinsic+json": {
              "type": "string"
            }
          },
          "metadata": {},
          "execution_count": 79
        }
      ]
    },
    {
      "cell_type": "code",
      "source": [
        "conversation.predict(input=\"How are you ?\")"
      ],
      "metadata": {
        "colab": {
          "base_uri": "https://localhost:8080/",
          "height": 288
        },
        "id": "cq2RhQKLnbvB",
        "outputId": "0955f218-a83b-44ae-b9c0-d23d0c7a2c8e"
      },
      "execution_count": 80,
      "outputs": [
        {
          "output_type": "stream",
          "name": "stdout",
          "text": [
            "\n",
            "\n",
            "\u001b[1m> Entering new  chain...\u001b[0m\n",
            "Prompt after formatting:\n",
            "\u001b[32;1m\u001b[1;3mThe following is a friendly conversation between a human and an AI. The AI is talkative and provides lots of specific details from its context. If the AI does not know the answer to a question, it truthfully says it does not know.\n",
            "\n",
            "Current conversation:\n",
            "\n",
            "The human greets the AI, to which the AI responds with a friendly greeting and an offer to help.\n",
            "Human: How are you ?\n",
            "AI:\u001b[0m\n",
            "\n",
            "\u001b[1m> Finished chain.\u001b[0m\n"
          ]
        },
        {
          "output_type": "execute_result",
          "data": {
            "text/plain": [
              "\" Hi there! I'm doing great, thanks for asking. How can I help you today?\""
            ],
            "application/vnd.google.colaboratory.intrinsic+json": {
              "type": "string"
            }
          },
          "metadata": {},
          "execution_count": 80
        }
      ]
    },
    {
      "cell_type": "markdown",
      "source": [
        "As you can see above, instead of storing the original conversation, a summary of the conversation is being stored and sent"
      ],
      "metadata": {
        "id": "tCAKCcLinmDs"
      }
    }
  ]
}